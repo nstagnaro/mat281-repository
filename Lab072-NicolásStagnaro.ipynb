{
 "cells": [
  {
   "cell_type": "markdown",
   "id": "5ce90c3b",
   "metadata": {},
   "source": [
    "<a href=\"https://colab.research.google.com/github/nstagnaro/mat281-repository/blob/main/Lab072-NicolásStagnaro.ipynb\" target=\"_parent\"><img src=\"https://colab.research.google.com/assets/colab-badge.svg\" alt=\"Open In Colab\"/></a>\n",
    "\n",
    "# MAT281 - Laboratorio N°072\n",
    "\n",
    "\n",
    "<a id='p1'></a>\n",
    "## I.- Problema 01\n",
    "\n",
    "\n",
    "<img src=\"https://drive.google.com/uc?export=view&id=1hG9C4e6Tisw2VTEatGkP_hRmnZNpbXK4\" width = \"300\" align=\"center\"/>\n"
   ]
  },
  {
   "cell_type": "markdown",
   "id": "97d33fad",
   "metadata": {},
   "source": [
    "El objetivo es a partir de los datos, hacer la mejor predicción de cada imagen. Para ellos es necesario realizar los pasos clásicos de un proyecto de _Machine Learning_, como estadística descriptiva, visualización y preprocesamiento. \n",
    "\n",
    "* Se solicita ajustar al menos tres modelos de clasificación:\n",
    "     * Regresión logística\n",
    "     * K-Nearest Neighbours \n",
    "     * Uno o más algoritmos a su elección [link](https://scikit-learn.org/stable/supervised_learning.html#supervised-learning). \n",
    "\n",
    "* Realizar una predicción con cada uno de los tres modelos con los datos _test_ y obtener el _score_. \n",
    "* Analizar sus métricas de error (**accuracy**, **precision**, **recall**, **f-score**)"
   ]
  },
  {
   "cell_type": "markdown",
   "id": "e2c4e7ea",
   "metadata": {},
   "source": [
    "### Exploración de los datos\n",
    "A continuación se carga el conjunto de datos a utilizar, a través del sub-módulo `datasets` de `sklearn`."
   ]
  },
  {
   "cell_type": "code",
   "execution_count": 1,
   "id": "017c133d",
   "metadata": {},
   "outputs": [],
   "source": [
    "import numpy as np\n",
    "import pandas as pd\n",
    "from sklearn import datasets\n",
    "import matplotlib.pyplot as plt\n",
    "import seaborn as sns\n",
    "import time\n",
    "from sklearn.model_selection import train_test_split\n",
    "from sklearn.preprocessing import RobustScaler, StandardScaler\n",
    "from sklearn.linear_model import LogisticRegression\n",
    "from sklearn.svm import SVR\n",
    "from sklearn.ensemble import RandomForestClassifier\n",
    "from sklearn.neighbors import KNeighborsClassifier\n",
    "from sklearn.metrics import confusion_matrix, classification_report\n",
    "\n",
    "from sklearn.metrics import accuracy_score, recall_score, precision_score, f1_score\n",
    "from sklearn.metrics import roc_curve, auc\n",
    "import warnings\n",
    "warnings.filterwarnings(\"ignore\")\n",
    "\n",
    "%matplotlib inline"
   ]
  },
  {
   "cell_type": "code",
   "execution_count": 2,
   "id": "4c20a1b9",
   "metadata": {},
   "outputs": [
    {
     "name": "stdout",
     "output_type": "stream",
     "text": [
      ".. _digits_dataset:\n",
      "\n",
      "Optical recognition of handwritten digits dataset\n",
      "--------------------------------------------------\n",
      "\n",
      "**Data Set Characteristics:**\n",
      "\n",
      "    :Number of Instances: 1797\n",
      "    :Number of Attributes: 64\n",
      "    :Attribute Information: 8x8 image of integer pixels in the range 0..16.\n",
      "    :Missing Attribute Values: None\n",
      "    :Creator: E. Alpaydin (alpaydin '@' boun.edu.tr)\n",
      "    :Date: July; 1998\n",
      "\n",
      "This is a copy of the test set of the UCI ML hand-written digits datasets\n",
      "https://archive.ics.uci.edu/ml/datasets/Optical+Recognition+of+Handwritten+Digits\n",
      "\n",
      "The data set contains images of hand-written digits: 10 classes where\n",
      "each class refers to a digit.\n",
      "\n",
      "Preprocessing programs made available by NIST were used to extract\n",
      "normalized bitmaps of handwritten digits from a preprinted form. From a\n",
      "total of 43 people, 30 contributed to the training set and different 13\n",
      "to the test set. 32x32 bitmaps are divided into nonoverlapping blocks of\n",
      "4x4 and the number of on pixels are counted in each block. This generates\n",
      "an input matrix of 8x8 where each element is an integer in the range\n",
      "0..16. This reduces dimensionality and gives invariance to small\n",
      "distortions.\n",
      "\n",
      "For info on NIST preprocessing routines, see M. D. Garris, J. L. Blue, G.\n",
      "T. Candela, D. L. Dimmick, J. Geist, P. J. Grother, S. A. Janet, and C.\n",
      "L. Wilson, NIST Form-Based Handprint Recognition System, NISTIR 5469,\n",
      "1994.\n",
      "\n",
      ".. topic:: References\n",
      "\n",
      "  - C. Kaynak (1995) Methods of Combining Multiple Classifiers and Their\n",
      "    Applications to Handwritten Digit Recognition, MSc Thesis, Institute of\n",
      "    Graduate Studies in Science and Engineering, Bogazici University.\n",
      "  - E. Alpaydin, C. Kaynak (1998) Cascading Classifiers, Kybernetika.\n",
      "  - Ken Tang and Ponnuthurai N. Suganthan and Xi Yao and A. Kai Qin.\n",
      "    Linear dimensionalityreduction using relevance weighted LDA. School of\n",
      "    Electrical and Electronic Engineering Nanyang Technological University.\n",
      "    2005.\n",
      "  - Claudio Gentile. A New Approximate Maximal Margin Classification\n",
      "    Algorithm. NIPS. 2000.\n",
      "\n"
     ]
    }
   ],
   "source": [
    "digits_dict = datasets.load_digits()\n",
    "print(digits_dict[\"DESCR\"])"
   ]
  },
  {
   "cell_type": "code",
   "execution_count": 3,
   "id": "eb5e310c",
   "metadata": {},
   "outputs": [
    {
     "data": {
      "text/plain": [
       "dict_keys(['data', 'target', 'frame', 'feature_names', 'target_names', 'images', 'DESCR'])"
      ]
     },
     "execution_count": 3,
     "metadata": {},
     "output_type": "execute_result"
    }
   ],
   "source": [
    "# informacion de las columnas\n",
    "digits_dict.keys()"
   ]
  },
  {
   "cell_type": "code",
   "execution_count": 4,
   "id": "3214cfd9",
   "metadata": {},
   "outputs": [
    {
     "data": {
      "text/plain": [
       "array([0, 1, 2, ..., 8, 9, 8])"
      ]
     },
     "execution_count": 4,
     "metadata": {},
     "output_type": "execute_result"
    }
   ],
   "source": [
    "# informacion del target\n",
    "digits_dict[\"target\"]"
   ]
  },
  {
   "cell_type": "markdown",
   "id": "698e2e43",
   "metadata": {},
   "source": [
    "A continuación se crea dataframe declarado como `digits` con los datos de `digits_dict` tal que tenga 65 columnas, las 6 primeras a la representación de la imagen en escala de grises (0-blanco, 255-negro) y la última correspondiente al dígito (`target`) con el nombre _target_."
   ]
  },
  {
   "cell_type": "code",
   "execution_count": 5,
   "id": "a2018b00",
   "metadata": {},
   "outputs": [
    {
     "data": {
      "text/html": [
       "<div>\n",
       "<style scoped>\n",
       "    .dataframe tbody tr th:only-of-type {\n",
       "        vertical-align: middle;\n",
       "    }\n",
       "\n",
       "    .dataframe tbody tr th {\n",
       "        vertical-align: top;\n",
       "    }\n",
       "\n",
       "    .dataframe thead th {\n",
       "        text-align: right;\n",
       "    }\n",
       "</style>\n",
       "<table border=\"1\" class=\"dataframe\">\n",
       "  <thead>\n",
       "    <tr style=\"text-align: right;\">\n",
       "      <th></th>\n",
       "      <th>c00</th>\n",
       "      <th>c01</th>\n",
       "      <th>c02</th>\n",
       "      <th>c03</th>\n",
       "      <th>c04</th>\n",
       "      <th>c05</th>\n",
       "      <th>c06</th>\n",
       "      <th>c07</th>\n",
       "      <th>c08</th>\n",
       "      <th>c09</th>\n",
       "      <th>...</th>\n",
       "      <th>c55</th>\n",
       "      <th>c56</th>\n",
       "      <th>c57</th>\n",
       "      <th>c58</th>\n",
       "      <th>c59</th>\n",
       "      <th>c60</th>\n",
       "      <th>c61</th>\n",
       "      <th>c62</th>\n",
       "      <th>c63</th>\n",
       "      <th>target</th>\n",
       "    </tr>\n",
       "  </thead>\n",
       "  <tbody>\n",
       "    <tr>\n",
       "      <th>0</th>\n",
       "      <td>0</td>\n",
       "      <td>0</td>\n",
       "      <td>5</td>\n",
       "      <td>13</td>\n",
       "      <td>9</td>\n",
       "      <td>1</td>\n",
       "      <td>0</td>\n",
       "      <td>0</td>\n",
       "      <td>0</td>\n",
       "      <td>0</td>\n",
       "      <td>...</td>\n",
       "      <td>0</td>\n",
       "      <td>0</td>\n",
       "      <td>0</td>\n",
       "      <td>6</td>\n",
       "      <td>13</td>\n",
       "      <td>10</td>\n",
       "      <td>0</td>\n",
       "      <td>0</td>\n",
       "      <td>0</td>\n",
       "      <td>0</td>\n",
       "    </tr>\n",
       "    <tr>\n",
       "      <th>1</th>\n",
       "      <td>0</td>\n",
       "      <td>0</td>\n",
       "      <td>0</td>\n",
       "      <td>12</td>\n",
       "      <td>13</td>\n",
       "      <td>5</td>\n",
       "      <td>0</td>\n",
       "      <td>0</td>\n",
       "      <td>0</td>\n",
       "      <td>0</td>\n",
       "      <td>...</td>\n",
       "      <td>0</td>\n",
       "      <td>0</td>\n",
       "      <td>0</td>\n",
       "      <td>0</td>\n",
       "      <td>11</td>\n",
       "      <td>16</td>\n",
       "      <td>10</td>\n",
       "      <td>0</td>\n",
       "      <td>0</td>\n",
       "      <td>1</td>\n",
       "    </tr>\n",
       "    <tr>\n",
       "      <th>2</th>\n",
       "      <td>0</td>\n",
       "      <td>0</td>\n",
       "      <td>0</td>\n",
       "      <td>4</td>\n",
       "      <td>15</td>\n",
       "      <td>12</td>\n",
       "      <td>0</td>\n",
       "      <td>0</td>\n",
       "      <td>0</td>\n",
       "      <td>0</td>\n",
       "      <td>...</td>\n",
       "      <td>0</td>\n",
       "      <td>0</td>\n",
       "      <td>0</td>\n",
       "      <td>0</td>\n",
       "      <td>3</td>\n",
       "      <td>11</td>\n",
       "      <td>16</td>\n",
       "      <td>9</td>\n",
       "      <td>0</td>\n",
       "      <td>2</td>\n",
       "    </tr>\n",
       "    <tr>\n",
       "      <th>3</th>\n",
       "      <td>0</td>\n",
       "      <td>0</td>\n",
       "      <td>7</td>\n",
       "      <td>15</td>\n",
       "      <td>13</td>\n",
       "      <td>1</td>\n",
       "      <td>0</td>\n",
       "      <td>0</td>\n",
       "      <td>0</td>\n",
       "      <td>8</td>\n",
       "      <td>...</td>\n",
       "      <td>0</td>\n",
       "      <td>0</td>\n",
       "      <td>0</td>\n",
       "      <td>7</td>\n",
       "      <td>13</td>\n",
       "      <td>13</td>\n",
       "      <td>9</td>\n",
       "      <td>0</td>\n",
       "      <td>0</td>\n",
       "      <td>3</td>\n",
       "    </tr>\n",
       "    <tr>\n",
       "      <th>4</th>\n",
       "      <td>0</td>\n",
       "      <td>0</td>\n",
       "      <td>0</td>\n",
       "      <td>1</td>\n",
       "      <td>11</td>\n",
       "      <td>0</td>\n",
       "      <td>0</td>\n",
       "      <td>0</td>\n",
       "      <td>0</td>\n",
       "      <td>0</td>\n",
       "      <td>...</td>\n",
       "      <td>0</td>\n",
       "      <td>0</td>\n",
       "      <td>0</td>\n",
       "      <td>0</td>\n",
       "      <td>2</td>\n",
       "      <td>16</td>\n",
       "      <td>4</td>\n",
       "      <td>0</td>\n",
       "      <td>0</td>\n",
       "      <td>4</td>\n",
       "    </tr>\n",
       "  </tbody>\n",
       "</table>\n",
       "<p>5 rows × 65 columns</p>\n",
       "</div>"
      ],
      "text/plain": [
       "   c00  c01  c02  c03  c04  c05  c06  c07  c08  c09  ...  c55  c56  c57  c58  \\\n",
       "0    0    0    5   13    9    1    0    0    0    0  ...    0    0    0    6   \n",
       "1    0    0    0   12   13    5    0    0    0    0  ...    0    0    0    0   \n",
       "2    0    0    0    4   15   12    0    0    0    0  ...    0    0    0    0   \n",
       "3    0    0    7   15   13    1    0    0    0    8  ...    0    0    0    7   \n",
       "4    0    0    0    1   11    0    0    0    0    0  ...    0    0    0    0   \n",
       "\n",
       "   c59  c60  c61  c62  c63  target  \n",
       "0   13   10    0    0    0       0  \n",
       "1   11   16   10    0    0       1  \n",
       "2    3   11   16    9    0       2  \n",
       "3   13   13    9    0    0       3  \n",
       "4    2   16    4    0    0       4  \n",
       "\n",
       "[5 rows x 65 columns]"
      ]
     },
     "execution_count": 5,
     "metadata": {},
     "output_type": "execute_result"
    }
   ],
   "source": [
    "# leer datos\n",
    "digits = (\n",
    "    pd.DataFrame(\n",
    "        digits_dict[\"data\"],\n",
    "    )\n",
    "    .rename(columns=lambda x: f\"c{x:02d}\")\n",
    "    .assign(target=digits_dict[\"target\"])\n",
    "    .astype(int)\n",
    ")\n",
    "\n",
    "digits.head()"
   ]
  },
  {
   "cell_type": "code",
   "execution_count": 27,
   "id": "904226bd",
   "metadata": {},
   "outputs": [
    {
     "data": {
      "text/html": [
       "<div>\n",
       "<style scoped>\n",
       "    .dataframe tbody tr th:only-of-type {\n",
       "        vertical-align: middle;\n",
       "    }\n",
       "\n",
       "    .dataframe tbody tr th {\n",
       "        vertical-align: top;\n",
       "    }\n",
       "\n",
       "    .dataframe thead th {\n",
       "        text-align: right;\n",
       "    }\n",
       "</style>\n",
       "<table border=\"1\" class=\"dataframe\">\n",
       "  <thead>\n",
       "    <tr style=\"text-align: right;\">\n",
       "      <th></th>\n",
       "      <th>c00</th>\n",
       "      <th>c01</th>\n",
       "      <th>c02</th>\n",
       "      <th>c03</th>\n",
       "      <th>c04</th>\n",
       "      <th>c05</th>\n",
       "      <th>c06</th>\n",
       "      <th>c07</th>\n",
       "      <th>c08</th>\n",
       "      <th>c09</th>\n",
       "      <th>...</th>\n",
       "      <th>c55</th>\n",
       "      <th>c56</th>\n",
       "      <th>c57</th>\n",
       "      <th>c58</th>\n",
       "      <th>c59</th>\n",
       "      <th>c60</th>\n",
       "      <th>c61</th>\n",
       "      <th>c62</th>\n",
       "      <th>c63</th>\n",
       "      <th>target</th>\n",
       "    </tr>\n",
       "  </thead>\n",
       "  <tbody>\n",
       "    <tr>\n",
       "      <th>1792</th>\n",
       "      <td>0</td>\n",
       "      <td>0</td>\n",
       "      <td>4</td>\n",
       "      <td>10</td>\n",
       "      <td>13</td>\n",
       "      <td>6</td>\n",
       "      <td>0</td>\n",
       "      <td>0</td>\n",
       "      <td>0</td>\n",
       "      <td>1</td>\n",
       "      <td>...</td>\n",
       "      <td>0</td>\n",
       "      <td>0</td>\n",
       "      <td>0</td>\n",
       "      <td>2</td>\n",
       "      <td>14</td>\n",
       "      <td>15</td>\n",
       "      <td>9</td>\n",
       "      <td>0</td>\n",
       "      <td>0</td>\n",
       "      <td>9</td>\n",
       "    </tr>\n",
       "    <tr>\n",
       "      <th>1793</th>\n",
       "      <td>0</td>\n",
       "      <td>0</td>\n",
       "      <td>6</td>\n",
       "      <td>16</td>\n",
       "      <td>13</td>\n",
       "      <td>11</td>\n",
       "      <td>1</td>\n",
       "      <td>0</td>\n",
       "      <td>0</td>\n",
       "      <td>0</td>\n",
       "      <td>...</td>\n",
       "      <td>0</td>\n",
       "      <td>0</td>\n",
       "      <td>0</td>\n",
       "      <td>6</td>\n",
       "      <td>16</td>\n",
       "      <td>14</td>\n",
       "      <td>6</td>\n",
       "      <td>0</td>\n",
       "      <td>0</td>\n",
       "      <td>0</td>\n",
       "    </tr>\n",
       "    <tr>\n",
       "      <th>1794</th>\n",
       "      <td>0</td>\n",
       "      <td>0</td>\n",
       "      <td>1</td>\n",
       "      <td>11</td>\n",
       "      <td>15</td>\n",
       "      <td>1</td>\n",
       "      <td>0</td>\n",
       "      <td>0</td>\n",
       "      <td>0</td>\n",
       "      <td>0</td>\n",
       "      <td>...</td>\n",
       "      <td>0</td>\n",
       "      <td>0</td>\n",
       "      <td>0</td>\n",
       "      <td>2</td>\n",
       "      <td>9</td>\n",
       "      <td>13</td>\n",
       "      <td>6</td>\n",
       "      <td>0</td>\n",
       "      <td>0</td>\n",
       "      <td>8</td>\n",
       "    </tr>\n",
       "    <tr>\n",
       "      <th>1795</th>\n",
       "      <td>0</td>\n",
       "      <td>0</td>\n",
       "      <td>2</td>\n",
       "      <td>10</td>\n",
       "      <td>7</td>\n",
       "      <td>0</td>\n",
       "      <td>0</td>\n",
       "      <td>0</td>\n",
       "      <td>0</td>\n",
       "      <td>0</td>\n",
       "      <td>...</td>\n",
       "      <td>0</td>\n",
       "      <td>0</td>\n",
       "      <td>0</td>\n",
       "      <td>5</td>\n",
       "      <td>12</td>\n",
       "      <td>16</td>\n",
       "      <td>12</td>\n",
       "      <td>0</td>\n",
       "      <td>0</td>\n",
       "      <td>9</td>\n",
       "    </tr>\n",
       "    <tr>\n",
       "      <th>1796</th>\n",
       "      <td>0</td>\n",
       "      <td>0</td>\n",
       "      <td>10</td>\n",
       "      <td>14</td>\n",
       "      <td>8</td>\n",
       "      <td>1</td>\n",
       "      <td>0</td>\n",
       "      <td>0</td>\n",
       "      <td>0</td>\n",
       "      <td>2</td>\n",
       "      <td>...</td>\n",
       "      <td>0</td>\n",
       "      <td>0</td>\n",
       "      <td>1</td>\n",
       "      <td>8</td>\n",
       "      <td>12</td>\n",
       "      <td>14</td>\n",
       "      <td>12</td>\n",
       "      <td>1</td>\n",
       "      <td>0</td>\n",
       "      <td>8</td>\n",
       "    </tr>\n",
       "  </tbody>\n",
       "</table>\n",
       "<p>5 rows × 65 columns</p>\n",
       "</div>"
      ],
      "text/plain": [
       "      c00  c01  c02  c03  c04  c05  c06  c07  c08  c09  ...  c55  c56  c57  \\\n",
       "1792    0    0    4   10   13    6    0    0    0    1  ...    0    0    0   \n",
       "1793    0    0    6   16   13   11    1    0    0    0  ...    0    0    0   \n",
       "1794    0    0    1   11   15    1    0    0    0    0  ...    0    0    0   \n",
       "1795    0    0    2   10    7    0    0    0    0    0  ...    0    0    0   \n",
       "1796    0    0   10   14    8    1    0    0    0    2  ...    0    0    1   \n",
       "\n",
       "      c58  c59  c60  c61  c62  c63  target  \n",
       "1792    2   14   15    9    0    0       9  \n",
       "1793    6   16   14    6    0    0       0  \n",
       "1794    2    9   13    6    0    0       8  \n",
       "1795    5   12   16   12    0    0       9  \n",
       "1796    8   12   14   12    1    0       8  \n",
       "\n",
       "[5 rows x 65 columns]"
      ]
     },
     "execution_count": 27,
     "metadata": {},
     "output_type": "execute_result"
    }
   ],
   "source": [
    "digits.tail()"
   ]
  },
  {
   "cell_type": "markdown",
   "id": "11767261",
   "metadata": {},
   "source": [
    "### Ejercicio 1\n",
    "**Análisis exploratorio:** Realiza tu análisis exploratorio, no debes olvidar nada! Recuerda, cada análisis debe responder una pregunta.\n",
    "\n",
    "Algunas sugerencias:\n",
    "\n",
    "* ¿Cómo se distribuyen los datos?\n",
    "* ¿Cuánta memoria estoy utilizando?\n",
    "* ¿Qué tipo de datos son?\n",
    "* ¿Cuántos registros por clase hay?\n",
    "* ¿Hay registros que no se correspondan con tu conocimiento previo de los datos?"
   ]
  },
  {
   "cell_type": "code",
   "execution_count": 6,
   "id": "2cd3eb53",
   "metadata": {},
   "outputs": [
    {
     "data": {
      "text/html": [
       "<div>\n",
       "<style scoped>\n",
       "    .dataframe tbody tr th:only-of-type {\n",
       "        vertical-align: middle;\n",
       "    }\n",
       "\n",
       "    .dataframe tbody tr th {\n",
       "        vertical-align: top;\n",
       "    }\n",
       "\n",
       "    .dataframe thead th {\n",
       "        text-align: right;\n",
       "    }\n",
       "</style>\n",
       "<table border=\"1\" class=\"dataframe\">\n",
       "  <thead>\n",
       "    <tr style=\"text-align: right;\">\n",
       "      <th></th>\n",
       "      <th>c00</th>\n",
       "      <th>c01</th>\n",
       "      <th>c02</th>\n",
       "      <th>c03</th>\n",
       "      <th>c04</th>\n",
       "      <th>c05</th>\n",
       "      <th>c06</th>\n",
       "      <th>c07</th>\n",
       "      <th>c08</th>\n",
       "      <th>c09</th>\n",
       "      <th>...</th>\n",
       "      <th>c55</th>\n",
       "      <th>c56</th>\n",
       "      <th>c57</th>\n",
       "      <th>c58</th>\n",
       "      <th>c59</th>\n",
       "      <th>c60</th>\n",
       "      <th>c61</th>\n",
       "      <th>c62</th>\n",
       "      <th>c63</th>\n",
       "      <th>target</th>\n",
       "    </tr>\n",
       "  </thead>\n",
       "  <tbody>\n",
       "    <tr>\n",
       "      <th>count</th>\n",
       "      <td>1797.0</td>\n",
       "      <td>1797.000000</td>\n",
       "      <td>1797.000000</td>\n",
       "      <td>1797.000000</td>\n",
       "      <td>1797.000000</td>\n",
       "      <td>1797.000000</td>\n",
       "      <td>1797.000000</td>\n",
       "      <td>1797.000000</td>\n",
       "      <td>1797.000000</td>\n",
       "      <td>1797.000000</td>\n",
       "      <td>...</td>\n",
       "      <td>1797.000000</td>\n",
       "      <td>1797.000000</td>\n",
       "      <td>1797.000000</td>\n",
       "      <td>1797.000000</td>\n",
       "      <td>1797.000000</td>\n",
       "      <td>1797.000000</td>\n",
       "      <td>1797.000000</td>\n",
       "      <td>1797.000000</td>\n",
       "      <td>1797.000000</td>\n",
       "      <td>1797.000000</td>\n",
       "    </tr>\n",
       "    <tr>\n",
       "      <th>mean</th>\n",
       "      <td>0.0</td>\n",
       "      <td>0.303840</td>\n",
       "      <td>5.204786</td>\n",
       "      <td>11.835838</td>\n",
       "      <td>11.848080</td>\n",
       "      <td>5.781859</td>\n",
       "      <td>1.362270</td>\n",
       "      <td>0.129661</td>\n",
       "      <td>0.005565</td>\n",
       "      <td>1.993879</td>\n",
       "      <td>...</td>\n",
       "      <td>0.206455</td>\n",
       "      <td>0.000556</td>\n",
       "      <td>0.279354</td>\n",
       "      <td>5.557596</td>\n",
       "      <td>12.089037</td>\n",
       "      <td>11.809126</td>\n",
       "      <td>6.764051</td>\n",
       "      <td>2.067891</td>\n",
       "      <td>0.364496</td>\n",
       "      <td>4.490818</td>\n",
       "    </tr>\n",
       "    <tr>\n",
       "      <th>std</th>\n",
       "      <td>0.0</td>\n",
       "      <td>0.907192</td>\n",
       "      <td>4.754826</td>\n",
       "      <td>4.248842</td>\n",
       "      <td>4.287388</td>\n",
       "      <td>5.666418</td>\n",
       "      <td>3.325775</td>\n",
       "      <td>1.037383</td>\n",
       "      <td>0.094222</td>\n",
       "      <td>3.196160</td>\n",
       "      <td>...</td>\n",
       "      <td>0.984401</td>\n",
       "      <td>0.023590</td>\n",
       "      <td>0.934302</td>\n",
       "      <td>5.103019</td>\n",
       "      <td>4.374694</td>\n",
       "      <td>4.933947</td>\n",
       "      <td>5.900623</td>\n",
       "      <td>4.090548</td>\n",
       "      <td>1.860122</td>\n",
       "      <td>2.865304</td>\n",
       "    </tr>\n",
       "    <tr>\n",
       "      <th>min</th>\n",
       "      <td>0.0</td>\n",
       "      <td>0.000000</td>\n",
       "      <td>0.000000</td>\n",
       "      <td>0.000000</td>\n",
       "      <td>0.000000</td>\n",
       "      <td>0.000000</td>\n",
       "      <td>0.000000</td>\n",
       "      <td>0.000000</td>\n",
       "      <td>0.000000</td>\n",
       "      <td>0.000000</td>\n",
       "      <td>...</td>\n",
       "      <td>0.000000</td>\n",
       "      <td>0.000000</td>\n",
       "      <td>0.000000</td>\n",
       "      <td>0.000000</td>\n",
       "      <td>0.000000</td>\n",
       "      <td>0.000000</td>\n",
       "      <td>0.000000</td>\n",
       "      <td>0.000000</td>\n",
       "      <td>0.000000</td>\n",
       "      <td>0.000000</td>\n",
       "    </tr>\n",
       "    <tr>\n",
       "      <th>25%</th>\n",
       "      <td>0.0</td>\n",
       "      <td>0.000000</td>\n",
       "      <td>1.000000</td>\n",
       "      <td>10.000000</td>\n",
       "      <td>10.000000</td>\n",
       "      <td>0.000000</td>\n",
       "      <td>0.000000</td>\n",
       "      <td>0.000000</td>\n",
       "      <td>0.000000</td>\n",
       "      <td>0.000000</td>\n",
       "      <td>...</td>\n",
       "      <td>0.000000</td>\n",
       "      <td>0.000000</td>\n",
       "      <td>0.000000</td>\n",
       "      <td>1.000000</td>\n",
       "      <td>11.000000</td>\n",
       "      <td>10.000000</td>\n",
       "      <td>0.000000</td>\n",
       "      <td>0.000000</td>\n",
       "      <td>0.000000</td>\n",
       "      <td>2.000000</td>\n",
       "    </tr>\n",
       "    <tr>\n",
       "      <th>50%</th>\n",
       "      <td>0.0</td>\n",
       "      <td>0.000000</td>\n",
       "      <td>4.000000</td>\n",
       "      <td>13.000000</td>\n",
       "      <td>13.000000</td>\n",
       "      <td>4.000000</td>\n",
       "      <td>0.000000</td>\n",
       "      <td>0.000000</td>\n",
       "      <td>0.000000</td>\n",
       "      <td>0.000000</td>\n",
       "      <td>...</td>\n",
       "      <td>0.000000</td>\n",
       "      <td>0.000000</td>\n",
       "      <td>0.000000</td>\n",
       "      <td>4.000000</td>\n",
       "      <td>13.000000</td>\n",
       "      <td>14.000000</td>\n",
       "      <td>6.000000</td>\n",
       "      <td>0.000000</td>\n",
       "      <td>0.000000</td>\n",
       "      <td>4.000000</td>\n",
       "    </tr>\n",
       "    <tr>\n",
       "      <th>75%</th>\n",
       "      <td>0.0</td>\n",
       "      <td>0.000000</td>\n",
       "      <td>9.000000</td>\n",
       "      <td>15.000000</td>\n",
       "      <td>15.000000</td>\n",
       "      <td>11.000000</td>\n",
       "      <td>0.000000</td>\n",
       "      <td>0.000000</td>\n",
       "      <td>0.000000</td>\n",
       "      <td>3.000000</td>\n",
       "      <td>...</td>\n",
       "      <td>0.000000</td>\n",
       "      <td>0.000000</td>\n",
       "      <td>0.000000</td>\n",
       "      <td>10.000000</td>\n",
       "      <td>16.000000</td>\n",
       "      <td>16.000000</td>\n",
       "      <td>12.000000</td>\n",
       "      <td>2.000000</td>\n",
       "      <td>0.000000</td>\n",
       "      <td>7.000000</td>\n",
       "    </tr>\n",
       "    <tr>\n",
       "      <th>max</th>\n",
       "      <td>0.0</td>\n",
       "      <td>8.000000</td>\n",
       "      <td>16.000000</td>\n",
       "      <td>16.000000</td>\n",
       "      <td>16.000000</td>\n",
       "      <td>16.000000</td>\n",
       "      <td>16.000000</td>\n",
       "      <td>15.000000</td>\n",
       "      <td>2.000000</td>\n",
       "      <td>16.000000</td>\n",
       "      <td>...</td>\n",
       "      <td>13.000000</td>\n",
       "      <td>1.000000</td>\n",
       "      <td>9.000000</td>\n",
       "      <td>16.000000</td>\n",
       "      <td>16.000000</td>\n",
       "      <td>16.000000</td>\n",
       "      <td>16.000000</td>\n",
       "      <td>16.000000</td>\n",
       "      <td>16.000000</td>\n",
       "      <td>9.000000</td>\n",
       "    </tr>\n",
       "  </tbody>\n",
       "</table>\n",
       "<p>8 rows × 65 columns</p>\n",
       "</div>"
      ],
      "text/plain": [
       "          c00          c01          c02          c03          c04  \\\n",
       "count  1797.0  1797.000000  1797.000000  1797.000000  1797.000000   \n",
       "mean      0.0     0.303840     5.204786    11.835838    11.848080   \n",
       "std       0.0     0.907192     4.754826     4.248842     4.287388   \n",
       "min       0.0     0.000000     0.000000     0.000000     0.000000   \n",
       "25%       0.0     0.000000     1.000000    10.000000    10.000000   \n",
       "50%       0.0     0.000000     4.000000    13.000000    13.000000   \n",
       "75%       0.0     0.000000     9.000000    15.000000    15.000000   \n",
       "max       0.0     8.000000    16.000000    16.000000    16.000000   \n",
       "\n",
       "               c05          c06          c07          c08          c09  ...  \\\n",
       "count  1797.000000  1797.000000  1797.000000  1797.000000  1797.000000  ...   \n",
       "mean      5.781859     1.362270     0.129661     0.005565     1.993879  ...   \n",
       "std       5.666418     3.325775     1.037383     0.094222     3.196160  ...   \n",
       "min       0.000000     0.000000     0.000000     0.000000     0.000000  ...   \n",
       "25%       0.000000     0.000000     0.000000     0.000000     0.000000  ...   \n",
       "50%       4.000000     0.000000     0.000000     0.000000     0.000000  ...   \n",
       "75%      11.000000     0.000000     0.000000     0.000000     3.000000  ...   \n",
       "max      16.000000    16.000000    15.000000     2.000000    16.000000  ...   \n",
       "\n",
       "               c55          c56          c57          c58          c59  \\\n",
       "count  1797.000000  1797.000000  1797.000000  1797.000000  1797.000000   \n",
       "mean      0.206455     0.000556     0.279354     5.557596    12.089037   \n",
       "std       0.984401     0.023590     0.934302     5.103019     4.374694   \n",
       "min       0.000000     0.000000     0.000000     0.000000     0.000000   \n",
       "25%       0.000000     0.000000     0.000000     1.000000    11.000000   \n",
       "50%       0.000000     0.000000     0.000000     4.000000    13.000000   \n",
       "75%       0.000000     0.000000     0.000000    10.000000    16.000000   \n",
       "max      13.000000     1.000000     9.000000    16.000000    16.000000   \n",
       "\n",
       "               c60          c61          c62          c63       target  \n",
       "count  1797.000000  1797.000000  1797.000000  1797.000000  1797.000000  \n",
       "mean     11.809126     6.764051     2.067891     0.364496     4.490818  \n",
       "std       4.933947     5.900623     4.090548     1.860122     2.865304  \n",
       "min       0.000000     0.000000     0.000000     0.000000     0.000000  \n",
       "25%      10.000000     0.000000     0.000000     0.000000     2.000000  \n",
       "50%      14.000000     6.000000     0.000000     0.000000     4.000000  \n",
       "75%      16.000000    12.000000     2.000000     0.000000     7.000000  \n",
       "max      16.000000    16.000000    16.000000    16.000000     9.000000  \n",
       "\n",
       "[8 rows x 65 columns]"
      ]
     },
     "execution_count": 6,
     "metadata": {},
     "output_type": "execute_result"
    }
   ],
   "source": [
    "# Distribucion\n",
    "digits.describe()"
   ]
  },
  {
   "cell_type": "code",
   "execution_count": 7,
   "id": "9f21963f",
   "metadata": {},
   "outputs": [
    {
     "name": "stdout",
     "output_type": "stream",
     "text": [
      "<class 'pandas.core.frame.DataFrame'>\n",
      "RangeIndex: 1797 entries, 0 to 1796\n",
      "Data columns (total 65 columns):\n",
      " #   Column  Non-Null Count  Dtype\n",
      "---  ------  --------------  -----\n",
      " 0   c00     1797 non-null   int32\n",
      " 1   c01     1797 non-null   int32\n",
      " 2   c02     1797 non-null   int32\n",
      " 3   c03     1797 non-null   int32\n",
      " 4   c04     1797 non-null   int32\n",
      " 5   c05     1797 non-null   int32\n",
      " 6   c06     1797 non-null   int32\n",
      " 7   c07     1797 non-null   int32\n",
      " 8   c08     1797 non-null   int32\n",
      " 9   c09     1797 non-null   int32\n",
      " 10  c10     1797 non-null   int32\n",
      " 11  c11     1797 non-null   int32\n",
      " 12  c12     1797 non-null   int32\n",
      " 13  c13     1797 non-null   int32\n",
      " 14  c14     1797 non-null   int32\n",
      " 15  c15     1797 non-null   int32\n",
      " 16  c16     1797 non-null   int32\n",
      " 17  c17     1797 non-null   int32\n",
      " 18  c18     1797 non-null   int32\n",
      " 19  c19     1797 non-null   int32\n",
      " 20  c20     1797 non-null   int32\n",
      " 21  c21     1797 non-null   int32\n",
      " 22  c22     1797 non-null   int32\n",
      " 23  c23     1797 non-null   int32\n",
      " 24  c24     1797 non-null   int32\n",
      " 25  c25     1797 non-null   int32\n",
      " 26  c26     1797 non-null   int32\n",
      " 27  c27     1797 non-null   int32\n",
      " 28  c28     1797 non-null   int32\n",
      " 29  c29     1797 non-null   int32\n",
      " 30  c30     1797 non-null   int32\n",
      " 31  c31     1797 non-null   int32\n",
      " 32  c32     1797 non-null   int32\n",
      " 33  c33     1797 non-null   int32\n",
      " 34  c34     1797 non-null   int32\n",
      " 35  c35     1797 non-null   int32\n",
      " 36  c36     1797 non-null   int32\n",
      " 37  c37     1797 non-null   int32\n",
      " 38  c38     1797 non-null   int32\n",
      " 39  c39     1797 non-null   int32\n",
      " 40  c40     1797 non-null   int32\n",
      " 41  c41     1797 non-null   int32\n",
      " 42  c42     1797 non-null   int32\n",
      " 43  c43     1797 non-null   int32\n",
      " 44  c44     1797 non-null   int32\n",
      " 45  c45     1797 non-null   int32\n",
      " 46  c46     1797 non-null   int32\n",
      " 47  c47     1797 non-null   int32\n",
      " 48  c48     1797 non-null   int32\n",
      " 49  c49     1797 non-null   int32\n",
      " 50  c50     1797 non-null   int32\n",
      " 51  c51     1797 non-null   int32\n",
      " 52  c52     1797 non-null   int32\n",
      " 53  c53     1797 non-null   int32\n",
      " 54  c54     1797 non-null   int32\n",
      " 55  c55     1797 non-null   int32\n",
      " 56  c56     1797 non-null   int32\n",
      " 57  c57     1797 non-null   int32\n",
      " 58  c58     1797 non-null   int32\n",
      " 59  c59     1797 non-null   int32\n",
      " 60  c60     1797 non-null   int32\n",
      " 61  c61     1797 non-null   int32\n",
      " 62  c62     1797 non-null   int32\n",
      " 63  c63     1797 non-null   int32\n",
      " 64  target  1797 non-null   int32\n",
      "dtypes: int32(65)\n",
      "memory usage: 456.4 KB\n"
     ]
    }
   ],
   "source": [
    "# Distribucion, dtypes y memoria usada\n",
    "digits.info()"
   ]
  },
  {
   "cell_type": "code",
   "execution_count": 8,
   "id": "29d945f4",
   "metadata": {},
   "outputs": [
    {
     "data": {
      "text/plain": [
       "3    183\n",
       "1    182\n",
       "5    182\n",
       "4    181\n",
       "6    181\n",
       "9    180\n",
       "7    179\n",
       "0    178\n",
       "2    177\n",
       "8    174\n",
       "Name: target, dtype: int64"
      ]
     },
     "execution_count": 8,
     "metadata": {},
     "output_type": "execute_result"
    }
   ],
   "source": [
    "# Registros por clase\n",
    "digits['target'].value_counts()\n",
    "# Se observa que las clases estan bastante equilibradas"
   ]
  },
  {
   "cell_type": "code",
   "execution_count": 9,
   "id": "6ca50bb3",
   "metadata": {},
   "outputs": [
    {
     "data": {
      "image/png": "[encoded data removed]",
      "text/plain": [
       "<Figure size 1000x400 with 10 Axes>"
      ]
     },
     "metadata": {},
     "output_type": "display_data"
    }
   ],
   "source": [
    "# Graficar imagenes de la muestra\n",
    "fig, axes = plt.subplots(2, 5, figsize=(10,4))\n",
    "for i, ax in enumerate(axes.flat):\n",
    "    ax.imshow(digits.iloc[i, :-1].values.reshape(8,8), cmap=\"gray\")\n",
    "    ax.set_title(f\"Etiqueta: {digits.iloc[i, -1]}\")\n",
    "    ax.axis(\"off\")\n",
    "plt.tight_layout()\n",
    "plt.show()\n",
    "# Las etiquetas tienen sentido con el problema, por lo que no hay registros que no se correspondan con el conocimiento previo de los datos"
   ]
  },
  {
   "cell_type": "markdown",
   "id": "73e45cec",
   "metadata": {},
   "source": [
    "### Ejercicio 2\n",
    "**Visualización:** Para visualizar los datos utilizaremos el método `imshow` de `matplotlib`. Resulta necesario convertir el arreglo desde las dimensiones (1,64)  a (8,8) para que la imagen sea cuadrada y pueda distinguirse el dígito. Superpondremos además el label correspondiente al dígito, mediante el método `text`. Esto nos permitirá comparar la imagen generada con la etiqueta asociada a los valores. Realizaremos lo anterior para los primeros 25 datos del archivo."
   ]
  },
  {
   "cell_type": "code",
   "execution_count": 10,
   "id": "f5d60d0f",
   "metadata": {},
   "outputs": [
    {
     "data": {
      "text/plain": [
       "array([[ 0.,  0.,  5., 13.,  9.,  1.,  0.,  0.],\n",
       "       [ 0.,  0., 13., 15., 10., 15.,  5.,  0.],\n",
       "       [ 0.,  3., 15.,  2.,  0., 11.,  8.,  0.],\n",
       "       [ 0.,  4., 12.,  0.,  0.,  8.,  8.,  0.],\n",
       "       [ 0.,  5.,  8.,  0.,  0.,  9.,  8.,  0.],\n",
       "       [ 0.,  4., 11.,  0.,  1., 12.,  7.,  0.],\n",
       "       [ 0.,  2., 14.,  5., 10., 12.,  0.,  0.],\n",
       "       [ 0.,  0.,  6., 13., 10.,  0.,  0.,  0.]])"
      ]
     },
     "execution_count": 10,
     "metadata": {},
     "output_type": "execute_result"
    }
   ],
   "source": [
    "digits_dict[\"images\"][0]"
   ]
  },
  {
   "cell_type": "markdown",
   "id": "b91c9bf4",
   "metadata": {},
   "source": [
    "Visualiza imágenes de los dígitos utilizando la llave `images` de `digits_dict`. \n",
    "\n",
    "> **Sugerencia**: Utiliza `plt.subplots` y el método `imshow`. Puedes hacer una grilla de varias imágenes al mismo tiempo!"
   ]
  },
  {
   "cell_type": "code",
   "execution_count": 11,
   "id": "4d161dae",
   "metadata": {},
   "outputs": [
    {
     "data": {
      "image/png": "[encoded data removed]",
      "text/plain": [
       "<Figure size 1200x1200 with 25 Axes>"
      ]
     },
     "metadata": {},
     "output_type": "display_data"
    }
   ],
   "source": [
    "nx, ny = 5, 5\n",
    "fig, axs = plt.subplots(nx, ny, figsize=(12, 12))\n",
    "for i, ax in enumerate(axs.flat):\n",
    "    ax.imshow(digits_dict[\"images\"][i], cmap=\"gray\")\n",
    "    ax.set_title(f\"Etiqueta: {digits_dict['target'][i]}\")\n",
    "    ax.axis(\"off\")\n",
    "plt.tight_layout()\n",
    "plt.show()"
   ]
  },
  {
   "cell_type": "code",
   "execution_count": 12,
   "id": "1ae5189e",
   "metadata": {},
   "outputs": [],
   "source": [
    "# Como al ojo se ven bien las diferencias, es de esperar que los algoritmos lo hagan mejor que uno al ojo."
   ]
  },
  {
   "cell_type": "markdown",
   "id": "972fecb6",
   "metadata": {},
   "source": [
    "### Ejercicio 3\n",
    "\n",
    "**Machine Learning**: En esta parte usted debe entrenar los distintos modelos escogidos desde la librería de `sklearn`. Para cada modelo, debe realizar los siguientes pasos:\n",
    "\n",
    "* **train-test** \n",
    "     * Crear conjunto de entrenamiento y testeo (usted determine las proporciones adecuadas).\n",
    "     * Imprimir por pantalla el largo del conjunto de entrenamiento y de testeo.\n",
    "  \n",
    "* **modelo**:\n",
    "     * Instanciar el modelo objetivo desde la librería sklearn.\n",
    "\n",
    "* **Métricas**:\n",
    "     * Graficar matriz de confusión.\n",
    "     * Analizar métricas de error.\n",
    "\n",
    "\n",
    "\n",
    "__Preguntas a responder:__\n",
    "\n",
    "* ¿Cuál modelo es mejor basado en sus métricas?\n",
    "* ¿Cuál modelo demora menos tiempo en ajustarse?\n",
    "* ¿Qué modelo escoges?\n"
   ]
  },
  {
   "cell_type": "code",
   "execution_count": 13,
   "id": "accaad1f",
   "metadata": {},
   "outputs": [],
   "source": [
    "# Evaluar las metricas\n",
    "def classification_metrics(df: pd.DataFrame) -> pd.DataFrame:\n",
    "    \"\"\"\n",
    "    Aplicar las distintas métricas definidas\n",
    "    :param df: dataframe con las columnas: ['y', 'yhat']\n",
    "    :return: dataframe con las métricas especificadas\n",
    "    \"\"\"\n",
    "    y_true = df['y']\n",
    "    y_pred = df['yhat']\n",
    "\n",
    "    accuracy = round(accuracy_score(y_true, y_pred), 4)\n",
    "    recall = round(recall_score(y_true, y_pred, average='macro'), 4)\n",
    "    precision = round(precision_score(y_true, y_pred, average='macro'), 4)\n",
    "    fscore = round(f1_score(y_true, y_pred, average='macro'), 4)\n",
    "\n",
    "    df_result = pd.DataFrame({'accuracy': [accuracy],\n",
    "                              'recall': [recall],\n",
    "                              'precision': [precision],\n",
    "                              'fscore': [fscore]})\n",
    "\n",
    "    return df_result\n",
    "\n",
    "def evaluate_model(model, X_test, y_test):\n",
    "    y_pred = model.predict(X_test)\n",
    "    print(\"Matriz de confusion:\")\n",
    "    print(confusion_matrix(y_test, y_pred))\n",
    "    print(\"\\nMetricas de Clasificacion:\")\n",
    "    metrics_df = classification_metrics(pd.DataFrame({'y': y_test, 'yhat': y_pred}))\n",
    "    print(metrics_df)"
   ]
  },
  {
   "cell_type": "code",
   "execution_count": 14,
   "id": "81c11dae",
   "metadata": {},
   "outputs": [
    {
     "name": "stdout",
     "output_type": "stream",
     "text": [
      "Tamaño del conjunto de entrenamiento: 1437\n",
      "Tamaño del conjunto de testeo: 360\n"
     ]
    }
   ],
   "source": [
    "# features, target\n",
    "\n",
    "X = digits.drop(columns=\"target\").values\n",
    "y = digits[\"target\"].values\n",
    "\n",
    "#Dividimos los datos en testeo y entrenamiento\n",
    "X_train, X_test, y_train, y_test = train_test_split(X, y, test_size=0.2, shuffle=False)\n",
    "print(\"Tamaño del conjunto de entrenamiento:\", len(X_train))\n",
    "print(\"Tamaño del conjunto de testeo:\", len(X_test))"
   ]
  },
  {
   "cell_type": "code",
   "execution_count": 15,
   "id": "f0d80587",
   "metadata": {},
   "outputs": [
    {
     "data": {
      "text/plain": [
       "RandomForestClassifier()"
      ]
     },
     "execution_count": 15,
     "metadata": {},
     "output_type": "execute_result"
    }
   ],
   "source": [
    "# Modelos\n",
    "logistic_model = LogisticRegression(solver='sag', max_iter=1000)\n",
    "knn_model = KNeighborsClassifier()\n",
    "random_forest_model = RandomForestClassifier()\n",
    "\n",
    "# Entrenamiento de los modelos\n",
    "logistic_model.fit(X_train, y_train)\n",
    "knn_model.fit(X_train, y_train)\n",
    "random_forest_model.fit(X_train, y_train)"
   ]
  },
  {
   "cell_type": "code",
   "execution_count": 16,
   "id": "997f0950",
   "metadata": {},
   "outputs": [
    {
     "name": "stdout",
     "output_type": "stream",
     "text": [
      "Metricas para el modelo de Regresion Logistica:\n",
      "\n",
      "Matriz de confusion:\n",
      "[[33  0  0  0  1  0  1  0  0  0]\n",
      " [ 0 30  0  1  0  0  0  0  0  5]\n",
      " [ 0  0 35  0  0  0  0  0  0  0]\n",
      " [ 0  0  0 28  0  2  0  1  6  0]\n",
      " [ 0  0  0  0 34  0  0  0  0  3]\n",
      " [ 0  2  0  0  0 35  0  0  0  0]\n",
      " [ 0  1  0  0  0  0 36  0  0  0]\n",
      " [ 0  1  0  0  1  0  0 33  1  0]\n",
      " [ 0  2  0  0  1  2  0  0 28  0]\n",
      " [ 0  2  0  0  0  0  0  0  1 34]]\n",
      "\n",
      "Metricas de Clasificacion:\n",
      "   accuracy  recall  precision  fscore\n",
      "0    0.9056  0.9055     0.9102  0.9058\n"
     ]
    }
   ],
   "source": [
    "print(\"Metricas para el modelo de Regresion Logistica:\\n\")\n",
    "evaluate_model(logistic_model, X_test, y_test)"
   ]
  },
  {
   "cell_type": "code",
   "execution_count": 17,
   "id": "0982b29a",
   "metadata": {},
   "outputs": [
    {
     "name": "stdout",
     "output_type": "stream",
     "text": [
      "Metricas para el modelo de K-Nearest Neighbors:\n",
      "\n",
      "Matriz de confusion:\n",
      "[[34  0  0  0  1  0  0  0  0  0]\n",
      " [ 0 36  0  0  0  0  0  0  0  0]\n",
      " [ 0  0 35  0  0  0  0  0  0  0]\n",
      " [ 0  0  1 33  0  1  0  1  1  0]\n",
      " [ 0  0  0  0 35  0  0  1  1  0]\n",
      " [ 0  0  0  0  0 37  0  0  0  0]\n",
      " [ 0  0  0  0  0  0 37  0  0  0]\n",
      " [ 0  0  0  0  0  0  0 36  0  0]\n",
      " [ 0  2  0  0  0  0  0  1 30  0]\n",
      " [ 0  0  0  1  0  2  0  0  0 34]]\n",
      "\n",
      "Metricas de Clasificacion:\n",
      "   accuracy  recall  precision  fscore\n",
      "0    0.9639  0.9637     0.9648  0.9635\n"
     ]
    }
   ],
   "source": [
    "print(\"Metricas para el modelo de K-Nearest Neighbors:\\n\")\n",
    "evaluate_model(knn_model, X_test, y_test)"
   ]
  },
  {
   "cell_type": "code",
   "execution_count": 18,
   "id": "b78a3683",
   "metadata": {},
   "outputs": [
    {
     "name": "stdout",
     "output_type": "stream",
     "text": [
      "Metricas para el modelo de Random Forest:\n",
      "\n",
      "Matriz de confusion:\n",
      "[[34  0  0  0  1  0  0  0  0  0]\n",
      " [ 0 33  0  0  0  0  0  0  0  3]\n",
      " [ 1  0 34  0  0  0  0  0  0  0]\n",
      " [ 0  0  0 25  0  2  0  1  9  0]\n",
      " [ 0  0  0  0 34  0  0  3  0  0]\n",
      " [ 0  0  0  0  0 37  0  0  0  0]\n",
      " [ 0  0  0  0  0  0 37  0  0  0]\n",
      " [ 0  0  0  0  0  0  0 36  0  0]\n",
      " [ 0  2  0  0  1  1  0  1 27  1]\n",
      " [ 0  0  0  0  0  2  0  0  1 34]]\n",
      "\n",
      "Metricas de Clasificacion:\n",
      "   accuracy  recall  precision  fscore\n",
      "0    0.9194  0.9191     0.9242  0.9174\n"
     ]
    }
   ],
   "source": [
    "print(\"Metricas para el modelo de Random Forest:\\n\")\n",
    "evaluate_model(random_forest_model, X_test, y_test)"
   ]
  },
  {
   "cell_type": "code",
   "execution_count": 19,
   "id": "a2950e06",
   "metadata": {},
   "outputs": [
    {
     "name": "stdout",
     "output_type": "stream",
     "text": [
      "Resultados de metricas para los tres modelos:\n"
     ]
    },
    {
     "data": {
      "text/html": [
       "<div>\n",
       "<style scoped>\n",
       "    .dataframe tbody tr th:only-of-type {\n",
       "        vertical-align: middle;\n",
       "    }\n",
       "\n",
       "    .dataframe tbody tr th {\n",
       "        vertical-align: top;\n",
       "    }\n",
       "\n",
       "    .dataframe thead th {\n",
       "        text-align: right;\n",
       "    }\n",
       "</style>\n",
       "<table border=\"1\" class=\"dataframe\">\n",
       "  <thead>\n",
       "    <tr style=\"text-align: right;\">\n",
       "      <th></th>\n",
       "      <th>accuracy</th>\n",
       "      <th>recall</th>\n",
       "      <th>precision</th>\n",
       "      <th>fscore</th>\n",
       "      <th>model</th>\n",
       "    </tr>\n",
       "  </thead>\n",
       "  <tbody>\n",
       "    <tr>\n",
       "      <th>0</th>\n",
       "      <td>0.9056</td>\n",
       "      <td>0.9055</td>\n",
       "      <td>0.9102</td>\n",
       "      <td>0.9058</td>\n",
       "      <td>logistic</td>\n",
       "    </tr>\n",
       "    <tr>\n",
       "      <th>2</th>\n",
       "      <td>0.9194</td>\n",
       "      <td>0.9191</td>\n",
       "      <td>0.9242</td>\n",
       "      <td>0.9174</td>\n",
       "      <td>random forest</td>\n",
       "    </tr>\n",
       "    <tr>\n",
       "      <th>1</th>\n",
       "      <td>0.9639</td>\n",
       "      <td>0.9637</td>\n",
       "      <td>0.9648</td>\n",
       "      <td>0.9635</td>\n",
       "      <td>knn</td>\n",
       "    </tr>\n",
       "  </tbody>\n",
       "</table>\n",
       "</div>"
      ],
      "text/plain": [
       "   accuracy  recall  precision  fscore          model\n",
       "0    0.9056  0.9055     0.9102  0.9058       logistic\n",
       "2    0.9194  0.9191     0.9242  0.9174  random forest\n",
       "1    0.9639  0.9637     0.9648  0.9635            knn"
      ]
     },
     "execution_count": 19,
     "metadata": {},
     "output_type": "execute_result"
    }
   ],
   "source": [
    "# Evaluar los modelos y almacenar los resultados en un solo dataframe\n",
    "results = []\n",
    "\n",
    "# Evaluar Regresion Logistica\n",
    "y_pred_logistic = logistic_model.predict(X_test)\n",
    "logistic_metrics = classification_metrics(pd.DataFrame({'y': y_test, 'yhat': y_pred_logistic}))\n",
    "results.append(logistic_metrics.assign(model = 'logistic'))\n",
    "\n",
    "# Evaluar K-Nearest Neighbors\n",
    "y_pred_knn = knn_model.predict(X_test)\n",
    "knn_metrics = classification_metrics(pd.DataFrame({'y': y_test, 'yhat': y_pred_knn}))\n",
    "results.append(knn_metrics.assign(model = 'knn'))\n",
    "\n",
    "# Evaluar Random Forest\n",
    "y_pred_random_forest = random_forest_model.predict(X_test)\n",
    "random_forest_metrics = classification_metrics(pd.DataFrame({'y': y_test, 'yhat': y_pred_random_forest}))\n",
    "results.append(random_forest_metrics.assign(model = 'random forest'))\n",
    "\n",
    "# Concatenar en un solo dataframe\n",
    "df_results = pd.concat(results).reset_index(drop=True).sort_values('accuracy')\n",
    "\n",
    "print(\"Resultados de metricas para los tres modelos:\")\n",
    "df_results"
   ]
  },
  {
   "cell_type": "markdown",
   "id": "765159dd",
   "metadata": {},
   "source": [
    "Basado en las metricas anteriores, el modelo knn es el mejor para este caso, pues es el mas las acerca a 1."
   ]
  },
  {
   "cell_type": "code",
   "execution_count": 20,
   "id": "90d93092",
   "metadata": {},
   "outputs": [
    {
     "name": "stdout",
     "output_type": "stream",
     "text": [
      "Tiempo de ejecucion del Regresor Logistico: 2.1196489334106445\n"
     ]
    }
   ],
   "source": [
    "# Tiempo del Regresor Logistico\n",
    "start_time = time.time() #Inicia\n",
    "logistic_model.fit(X_train, y_train)\n",
    "logistic_pred = logistic_model.predict(X_test)\n",
    "logistic_time = time.time() - start_time #Termina\n",
    "print(\"Tiempo de ejecucion del Regresor Logistico:\", logistic_time)"
   ]
  },
  {
   "cell_type": "code",
   "execution_count": 21,
   "id": "e3c842cc",
   "metadata": {},
   "outputs": [
    {
     "name": "stdout",
     "output_type": "stream",
     "text": [
      "Tiempo de ejecucion del Random Forest: 0.2549927234649658\n"
     ]
    }
   ],
   "source": [
    "# Tiempo del Random Forest\n",
    "start_time = time.time() #Inicia\n",
    "random_forest_model.fit(X_train, y_train)\n",
    "random_forest_pred = random_forest_model.predict(X_test)\n",
    "random_forest_time = time.time() - start_time #Termina\n",
    "print(\"Tiempo de ejecucion del Random Forest:\", random_forest_time)"
   ]
  },
  {
   "cell_type": "code",
   "execution_count": 22,
   "id": "66628e4e",
   "metadata": {},
   "outputs": [
    {
     "name": "stdout",
     "output_type": "stream",
     "text": [
      "Tiempo de ejecucion del KNN: 0.020931005477905273\n"
     ]
    }
   ],
   "source": [
    "# Tiempo del KNN\n",
    "start_time = time.time() #Inicia\n",
    "knn_model.fit(X_train, y_train)\n",
    "knn_pred = knn_model.predict(X_test)\n",
    "knn_time = time.time() - start_time #Termina\n",
    "print(\"Tiempo de ejecucion del KNN:\", knn_time)"
   ]
  },
  {
   "cell_type": "markdown",
   "id": "e30ee06f",
   "metadata": {},
   "source": [
    "Deducimos de lo anterior que el modelo que menos se demora es el KNN. Esto, junto al hecho de que este modelo es el que mejora las métricas, nos dice que es el mejor modelo a escoger."
   ]
  },
  {
   "cell_type": "markdown",
   "id": "f53afd2b",
   "metadata": {},
   "source": [
    "### Ejercicio 4\n",
    "\n",
    "__Comprensión del modelo:__ Tomando en cuenta el **mejor modelo entontrado** en el `Ejercicio 3`, debe comprender e interpretar minuciosamente los resultados y gráficos asocados al modelo en estudio, para ello debe resolver los siguientes puntos:\n",
    "\n",
    "\n",
    " * **Curva AUC–ROC**: Replica el ejemplo del siguiente  [link](https://scikit-learn.org/stable/auto_examples/model_selection/plot_roc.html#sphx-glr-auto-examples-model-selection-plot-roc-py) pero con el modelo, parámetros y métrica adecuada. Saque conclusiones del gráfico."
   ]
  },
  {
   "cell_type": "code",
   "execution_count": 23,
   "id": "5b7d6ee5",
   "metadata": {},
   "outputs": [
    {
     "data": {
      "image/png": "[encoded data removed]",
      "text/plain": [
       "<Figure size 800x600 with 1 Axes>"
      ]
     },
     "metadata": {},
     "output_type": "display_data"
    }
   ],
   "source": [
    "# Se trabaja con el modelo KNN, pues es el mejor por lo visto en el item anterior\n",
    "# Obtener las probabilidades de predicción para cada clase\n",
    "y_pred_proba = knn_model.predict_proba(X_test)\n",
    "\n",
    "# Calcular la curva ROC y el puntaje AUC-ROC para cada clase\n",
    "n_classes = len(knn_model.classes_)\n",
    "fpr = dict()\n",
    "tpr = dict()\n",
    "roc_auc = dict()\n",
    "\n",
    "for i in range(n_classes):\n",
    "    fpr[i], tpr[i], _ = roc_curve(y_test, y_pred_proba[:, i], pos_label=i)\n",
    "    roc_auc[i] = auc(fpr[i], tpr[i])\n",
    "\n",
    "# Graficar las curvas AUC-ROC para cada clase\n",
    "plt.figure(figsize=(8, 6))\n",
    "colors = ['blue', 'red', 'green', 'orange', 'purple', 'brown', 'pink', 'gray', 'olive', 'cyan']\n",
    "\n",
    "for i in range(n_classes):\n",
    "    plt.plot(fpr[i], tpr[i], color=colors[i], lw=2, label=f'Clase {i} (AUC = {roc_auc[i]:.2f})')\n",
    "\n",
    "plt.plot([0, 1], [0, 1], color='black', lw=2, linestyle='--')\n",
    "plt.xlim([0.0, 1.0])\n",
    "plt.ylim([0.0, 1.05])\n",
    "plt.xlabel('Tasa de Falsos Positivos')\n",
    "plt.ylabel('Tasa de Verdaderos Positivos')\n",
    "plt.title('Curvas AUC-ROC para el modelo de KNN')\n",
    "plt.legend(loc=\"lower right\")\n",
    "plt.show()"
   ]
  },
  {
   "cell_type": "markdown",
   "id": "f63aacc3",
   "metadata": {},
   "source": [
    "Podemos observar del gráfico que para todas las clases el clasificador hace bien el trabajo, acercándose mucho al clasificador perfecto. Todo esto entendiendo que, mientras más se minimiza la tasa de falsos positivos y más se maximiza la tasa de verdaderos positivos, mejor es el clasificador. Otra forma de verlo es mediante el AUC, como todas las clases poseen un AUC muy cercano a 1, que es el ideal, entonces el modelo KNN funciona bien."
   ]
  },
  {
   "cell_type": "markdown",
   "id": "528c1506",
   "metadata": {},
   "source": [
    "### Ejercicio 5\n",
    "\n",
    "\n",
    "__Visualizando Resultados:__ A continuación se provee código para comparar las etiquetas predichas vs las etiquetas reales del conjunto de _test_. "
   ]
  },
  {
   "cell_type": "code",
   "execution_count": 24,
   "id": "d13bf1ad",
   "metadata": {},
   "outputs": [],
   "source": [
    "def mostrar_resultados(digits, model, nx=5, ny=5, label=\"correctos\"):\n",
    "    \"\"\"\n",
    "    Muestra los resultados de las predicciones de un modelo de clasificación en particular. \n",
    "    Se toman aleatoriamente los valores de los resultados.\n",
    "    \n",
    "    - label == 'correctos': muestra los valores en los que el modelo acierta.\n",
    "    - label == 'incorrectos': muestra los valores en los que el modelo no acierta.\n",
    "\n",
    "    Observación: El modelo que se recibe como argumento no debe estar entrenado.\n",
    "    \n",
    "    :param digits: dataset 'digits'\n",
    "    :param model: modelo de sklearn\n",
    "    :param nx: número de filas (subplots)\n",
    "    :param ny: número de columnas (subplots)\n",
    "    :param label: 'correctos' o 'incorrectos'\n",
    "    :return: gráficos matplotlib\n",
    "    \"\"\"\n",
    "    \n",
    "    X = digits.drop(columns=\"target\").values\n",
    "    y = digits[\"target\"].values\n",
    "    X_train, X_test, y_train, y_test = train_test_split(X, y, test_size=0.2, random_state=42) \n",
    "    model.fit(X_train, y_train)  # Ajustar el modelo\n",
    "    y_pred = model.predict(X_test)\n",
    "\n",
    "    # Mostrar los datos correctos\n",
    "    if label == \"correctos\":\n",
    "        mask = (y_pred == y_test)\n",
    "        color = \"green\"\n",
    "        \n",
    "    # Mostrar los datos incorrectos\n",
    "    elif label == \"incorrectos\":\n",
    "        mask = (y_pred != y_test)\n",
    "        color = \"red\"\n",
    "    \n",
    "    else:\n",
    "        raise ValueError(\"Valor incorrecto\")\n",
    "        \n",
    "    X_aux = X_test[mask]\n",
    "    y_aux_true = y_test[mask]\n",
    "    y_aux_pred = y_pred[mask]\n",
    "\n",
    "    # Mostrar los resultados\n",
    "    n_samples = min(nx * ny, len(X_aux))\n",
    "    indices = np.random.choice(len(X_aux), n_samples, replace=False)\n",
    "    fig, ax = plt.subplots(nx, ny, figsize=(12, 12))\n",
    "    \n",
    "    for i, index in enumerate(indices):\n",
    "        data = X_aux[index, :].reshape(8, 8)\n",
    "        label_pred = str(int(y_aux_pred[index]))\n",
    "        label_true = str(int(y_aux_true[index]))\n",
    "        row = i // ny\n",
    "        col = i % ny\n",
    "        ax[row, col].imshow(data, interpolation='nearest', cmap='gray_r')\n",
    "        ax[row, col].text(0, 0, label_pred, horizontalalignment='center', verticalalignment='center', fontsize=10, color=color)\n",
    "        ax[row, col].text(7, 0, label_true, horizontalalignment='center', verticalalignment='center', fontsize=10, color='blue')\n",
    "        ax[row, col].get_xaxis().set_visible(False)\n",
    "        ax[row, col].get_yaxis().set_visible(False)\n",
    "    \n",
    "    plt.show()"
   ]
  },
  {
   "cell_type": "markdown",
   "id": "9c7e3382",
   "metadata": {},
   "source": [
    "**Pregunta**\n",
    "\n",
    "* Tomando en cuenta el mejor modelo entontrado en el `Ejercicio 3`, grafique los resultados cuando:\n",
    " * el valor predicho y original son iguales\n",
    " * el valor predicho y original son distintos \n",
    "\n",
    "\n",
    "* Cuando el valor predicho y original son distintos ,  ¿Por qué ocurren estas fallas?"
   ]
  },
  {
   "cell_type": "code",
   "execution_count": 25,
   "id": "5a928580",
   "metadata": {},
   "outputs": [
    {
     "name": "stdout",
     "output_type": "stream",
     "text": [
      "Resultados cuando el valor predicho y original son iguales:\n"
     ]
    },
    {
     "data": {
      "image/png": "[encoded data removed]",
      "text/plain": [
       "<Figure size 1200x1200 with 25 Axes>"
      ]
     },
     "metadata": {},
     "output_type": "display_data"
    }
   ],
   "source": [
    "# Graficar los resultados cuando el valor predicho y original son iguales\n",
    "print(\"Resultados cuando el valor predicho y original son iguales:\")\n",
    "mostrar_resultados(digits, knn_model, label=\"correctos\")"
   ]
  },
  {
   "cell_type": "code",
   "execution_count": 26,
   "id": "17e0a446",
   "metadata": {},
   "outputs": [
    {
     "name": "stdout",
     "output_type": "stream",
     "text": [
      "Resultados cuando el valor predicho y original son distintos:\n"
     ]
    },
    {
     "data": {
      "image/png": "[encoded data removed]",
      "text/plain": [
       "<Figure size 1200x1200 with 25 Axes>"
      ]
     },
     "metadata": {},
     "output_type": "display_data"
    }
   ],
   "source": [
    "# Graficar los resultados cuando el valor predicho y original son distintos\n",
    "print(\"Resultados cuando el valor predicho y original son distintos:\")\n",
    "mostrar_resultados(digits, knn_model, label=\"incorrectos\")"
   ]
  },
  {
   "cell_type": "markdown",
   "id": "81dcb7b3",
   "metadata": {},
   "source": [
    "Las fallas cuando el valor predicho y original no coinciden se deben a que cualquier algoritmo de machine learning no va apredecir siempre bien los outputs, lo cual puede ocurrir por el overfitting."
   ]
  },
  {
   "cell_type": "markdown",
   "id": "87f3d6e7",
   "metadata": {},
   "source": [
    "### Ejercicio 6\n",
    "**Conclusiones**: Entrega tu veredicto, responde las preguntas iniciales, visualizaciones, trabajos futuros, dificultades, etc."
   ]
  },
  {
   "cell_type": "markdown",
   "id": "3360efbb",
   "metadata": {},
   "source": [
    "Algunas visualizaciones respecto al trabajo, con respecto a la normalización de los dados, es ver con boxplots si algunos atributos poseen outliers, para así dedicir si es lo mejor usar el \"scaler\" RobustScaler, pues cuando no hay outliers puede ser conveniente usar otros, etc. Agregar además, respecto a los algoritmos, que se podrían usar otros y hacer comparaciones de rendimiento segun las metricas de error, lo cual puede quedar como trabajo futuro. Existe por ejemplo el algoritmo de perceptron el cual es muy util para el caso de clasificacion binaria, pero que se puede extender a multi clases. La dificultad es que es mas tedioso que en otros algoritmos que por defecto sirven cuando se tienen multi clases.\n",
    "\n",
    "Con respecto a las preguntas iniciales, se ajustaron los modelos de Regresión logística, K-Nearest Neighbours y Random Forest, se analizaron las metricas de error para cada una, se hicieron predicciones y se analizaron con la matriz de confusion, todo esto en el ejercicio 3."
   ]
  }
 ],
 "metadata": {
  "kernelspec": {
   "display_name": "Python 3 (ipykernel)",
   "language": "python",
   "name": "python3"
  },
  "language_info": {
   "codemirror_mode": {
    "name": "ipython",
    "version": 3
   },
   "file_extension": ".py",
   "mimetype": "text/x-python",
   "name": "python",
   "nbconvert_exporter": "python",
   "pygments_lexer": "ipython3",
   "version": "3.9.13"
  }
 },
 "nbformat": 4,
 "nbformat_minor": 5
}
