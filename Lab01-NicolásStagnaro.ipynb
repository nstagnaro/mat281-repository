{
 "cells": [
  {
   "cell_type": "markdown",
   "id": "a76b3b74",
   "metadata": {},
   "source": [
    "# Problema #01:\n",
    "\n",
    "En los siglos XVII y XVIII, James Gregory y Gottfried Leibniz descubrieron una serie infinita que sirve para calcular $\\pi$:\n",
    "\n",
    "$$\n",
    "\\pi = 4\\sum_{k=1}^{\\infty}\\frac{(-1)^{k+1}}{2k-1} = 4\\left(1-\\frac{1}{3}+\\frac{1}{5}-\\frac{1}{7}+\\ldots\\right)\n",
    "$$\n",
    "\n",
    "Desarolle un programa para estimar el valor de $\\pi$ ocupando el método de Leibniz, donde la entrada del programa debe ser un número entero $n$ que indique cuántos términos de la suma se utilizará.\n"
   ]
  },
  {
   "cell_type": "code",
   "execution_count": 21,
   "id": "7ac4ba78",
   "metadata": {},
   "outputs": [
    {
     "name": "stdout",
     "output_type": "stream",
     "text": [
      "Indique cuantos terminos de la suma usara: 3\n",
      "calcular_pi(3) = 3.466666666666667\n",
      "Indique cuantos terminos de la suma usara (ahora un numero mayor): 1000\n",
      "calcular_pi(1000) = 3.140592653839794\n"
     ]
    }
   ],
   "source": [
    "#Solucion\n",
    "\n",
    "def calcular_pi(n):\n",
    "    resultado = 0\n",
    "    if n<0:\n",
    "        print(\"Numero no valido, ingrese de nuevo por favor...\")\n",
    "    else:\n",
    "        for k in range(1,n+1): #hasta n+1 para que tome el termino n\n",
    "            resultado += 4*(((-1)**(k+1))/(2*k-1)) \n",
    "        return resultado\n",
    "\n",
    "n = int(input(\"Indique cuantos terminos de la suma usara: \"))\n",
    "print(\"calcular_pi({}) =\".format(str(n)),calcular_pi(n))                                 #Calculamos pi para 3 terminos\n",
    "m = int(input(\"Indique cuantos terminos de la suma usara (ahora un numero mayor): \"))\n",
    "print(\"calcular_pi({}) =\".format(str(m)),calcular_pi(m))                                 #Calculamos pi para 1000 terminos"
   ]
  },
  {
   "cell_type": "markdown",
   "id": "34b3042f",
   "metadata": {},
   "source": [
    "# Problema #02:\n",
    "\n",
    "Euler realizó varios aportes en relación a $e$, pero no fue hasta 1748 cuando publicó su **Introductio in analysin infinitorum** que dio un tratamiento definitivo a las ideas sobre $e$. Allí mostró que:\n",
    "\n",
    "En los siglos XVII y XVIII, James Gregory y Gottfried Leibniz descubrieron una serie infinita que sirve para calcular $\\pi$:\n",
    "\n",
    "$$\n",
    "e = \\sum_{k=0}^{\\infty}\\frac{1}{k!} = 1 + \\frac{1}{2!} + \\frac{1}{3!} + \\frac{1}{4!} + \\ldots\n",
    "$$\n",
    "\n",
    "Desarolle un programa para estimar el valor de $e$ ocupando el método de Euler, donde la entrada del programa debe ser un número entero $n$ que indique cuántos términos de la suma se utilizará.\n",
    "\n",
    "Para esto:\n",
    "\n",
    "a) Defina la función factorial, donde la entrada sea un número natural $n$ y la salida sea el factorial de dicho número.\n",
    "\n",
    "b) Ocupe la función factorial dentro de la función calcular_e.\n"
   ]
  },
  {
   "cell_type": "code",
   "execution_count": 15,
   "id": "75e924d3",
   "metadata": {},
   "outputs": [
    {
     "name": "stdout",
     "output_type": "stream",
     "text": [
      "Ingrese numero natural: 3\n",
      "Ingrese otro numero natural: 5\n",
      "factorial(3) = 6\n",
      "factorial(5) = 120\n",
      "calcular_e(3) = 2.6666666666666665\n",
      "calcular_e(5) = 2.7166666666666663\n"
     ]
    }
   ],
   "source": [
    "#Solucion\n",
    "\n",
    "def factorial(n):\n",
    "    if n == 0 or n == 1:\n",
    "        resultado = 1\n",
    "    else:\n",
    "        resultado = n*factorial(n-1)\n",
    "    return resultado\n",
    "\n",
    "def calcular_e(n):\n",
    "    resultado = 0\n",
    "    if n<0:\n",
    "        print(\"Ingrese un valor valido por favor...\")\n",
    "    else:\n",
    "        for k in range(0,n+1):\n",
    "            resultado += 1/factorial(k)\n",
    "    return resultado\n",
    "\n",
    "a = int(input(\"Ingrese numero natural: \"))\n",
    "b = int(input(\"Ingrese otro numero natural: \"))\n",
    "print(\"factorial({}) =\".format(str(a)),factorial(a))           #Probando el factorial\n",
    "print(\"factorial({}) =\".format(str(b)),factorial(b))           #Probando de nuevo el factorial\n",
    "print(\"calcular_e({}) =\".format(str(a)),calcular_e(a))         #Probando calcular_e\n",
    "print(\"calcular_e({}) =\".format(str(b)),calcular_e(b))         #Probando calcular_e de nuevo"
   ]
  },
  {
   "cell_type": "markdown",
   "id": "279229b8",
   "metadata": {},
   "source": [
    "# Problema #03:\n",
    "\n",
    "Sea $\\sigma(n)$ definido como la suma de los divisores propios de $n$ (números menores que $n$ que se dividen en $n$).\n",
    "\n",
    "Los números amigos son enteros positivos $n_{1}$ y $n_{2}$ tales que la suma de los divisores propios de uno es igual al otro número y viceversa, es decir, $\\sigma(1)=\\sigma(2)$ y $\\sigma(2)=\\sigma(1)$.\n",
    "\n",
    "Por ejemplo, los números 220 y 284 son números amigos.\n",
    "\n",
    "1) los divisores propios de 220 son 1, 2, 4, 5, 10, 11, 20, 22, 44, 55 y 110; por lo tanto $\\sigma(220)=284$. \n",
    "\n",
    "2) los divisores propios de 284 son 1, 2, 4, 71 y 142; entonces $\\sigma(284)=220$.\n",
    "\n",
    "Implemente una función llamada \"amigos\" cuyo input sean dos números naturales $n_{1}$ y $n_{2}$, cuyo output sea verifique si los números son amigos o no.\n",
    "\n",
    "Para esto:\n",
    "\n",
    "a) Defina la función \"divisores_propios\", donde la entrada sea un número natural $n$ y la salida sea una lista con los divisores propios de dicho número.\n",
    "\n",
    "b) Ocupe la función \"divisores_propios\" dentro de la \"función amigos\"."
   ]
  },
  {
   "cell_type": "code",
   "execution_count": 30,
   "id": "165aa175",
   "metadata": {},
   "outputs": [
    {
     "name": "stdout",
     "output_type": "stream",
     "text": [
      "Ingrese primer numero: 220\n",
      "Ingrese segundo numero: 284\n",
      "divisores_propios(220) = [1, 2, 4, 5, 10, 11, 20, 22, 44, 55, 110]\n",
      "divisores_propios(284) = [1, 2, 4, 71, 142]\n",
      "amigos(220,284) = True\n"
     ]
    }
   ],
   "source": [
    "#Solucion\n",
    "\n",
    "def divisores_propios(n):\n",
    "    lista_divisores = []\n",
    "    for k in range(1,n): #No consideramos el \"n+1\" para no ponerlo en la lista\n",
    "        if n%k == 0:\n",
    "            lista_divisores.append(k)\n",
    "    return lista_divisores\n",
    "\n",
    "def amigos(n,m):\n",
    "    a = 0\n",
    "    b = 0\n",
    "    lista_1 = divisores_propios(n)\n",
    "    lista_2 = divisores_propios(m)\n",
    "    for k in lista_1:\n",
    "        a += k\n",
    "    if a != m:\n",
    "        return(False)\n",
    "    else:\n",
    "        for k in lista_2:\n",
    "            b += k\n",
    "        if b == n:\n",
    "            return(True)\n",
    "        else:\n",
    "            return(False)\n",
    "    \n",
    "\n",
    "a = int(input(\"Ingrese primer numero: \"))\n",
    "b = int(input(\"Ingrese segundo numero: \"))\n",
    "print(\"divisores_propios({}) =\".format(str(a)),divisores_propios(a))        #Probando la funcion divisores_propios\n",
    "print(\"divisores_propios({}) =\".format(str(b)),divisores_propios(b))        #Probando la funcion divisores_propios otra vez\n",
    "print(\"amigos({},{}) =\".format(str(a),str(b)),amigos(a,b))                  #Probando la funcion amigos"
   ]
  },
  {
   "cell_type": "markdown",
   "id": "8cfd8053",
   "metadata": {},
   "source": [
    "# Problema #04:\n",
    "\n",
    "La conjetura de Collatz, conocida también como conjetura $3n+1$ o conjetura de Ulam (entre otros nombres), fue enunciada por el matemático Lothar Collatz en 1937, y a la fecha no se ha resuelto.\n",
    "\n",
    "Sea la siguiente operación, aplicable a cualquier número entero positivo:\n",
    "\n",
    "1) Si el número es par, se divide entre 2.\n",
    "\n",
    "2) Si el número es impar, se multiplica por 3 y se suma 1.\n",
    "\n",
    "La conjetura dice que siempre alcanzaremos el 1 (y por tanto el ciclo 4, 2, 1) para cualquier número con el que comencemos.\n",
    "\n",
    "Implemente una función llamada \"collatz\" cuyo input sea un número natural positivo $N$ y como output devuelva la secuencia de números hasta llegar a 1."
   ]
  },
  {
   "cell_type": "code",
   "execution_count": 28,
   "id": "4749f028",
   "metadata": {},
   "outputs": [
    {
     "name": "stdout",
     "output_type": "stream",
     "text": [
      "Ingrese numero entero positivo: 9\n",
      "collatz(9) = [9, 28, 14, 7, 22, 11, 34, 17, 52, 26, 13, 40, 20, 10, 5, 16, 8, 4, 2, 1]\n"
     ]
    }
   ],
   "source": [
    "#Solucion\n",
    "\n",
    "def collatz(n):\n",
    "    secuencia = []\n",
    "    secuencia.append(n)\n",
    "    while n != 1:\n",
    "        if n%2 != 0:   #Caso impar\n",
    "            n = 3*n + 1\n",
    "            n = int(n)\n",
    "            secuencia.append(n)\n",
    "        elif n%2 == 0: #Caso par\n",
    "            n = n/2\n",
    "            n = int(n)\n",
    "            secuencia.append(n)\n",
    "    return secuencia\n",
    "\n",
    "a = int(input(\"Ingrese numero entero positivo: \"))\n",
    "print(\"collatz({}) =\".format(str(a)),collatz(a))       #Calculamos para a = 9"
   ]
  },
  {
   "cell_type": "markdown",
   "id": "662616f8",
   "metadata": {},
   "source": [
    "# Problema #05:\n",
    "\n",
    "La conjetura de Goldbach es uno de los problemas abiertos más antiguos en matemáticas. Concretamente, G.H. Hardy, en 1921, en su famoso discurso pronunciado en la Sociedad Matemática de Copenhague, comentó que probablemente la conjetura de Goldbach no es solo uno de los problemas no resueltos más difíciles de la teoría de números, sino de todas las matemáticas. Su enunciado es el siguiente:\n",
    "\n",
    "\"Todo número par mayor que 2 puede escribirse como suma de dos números primos\" - Christian Goldbach (1742)\n",
    "\n",
    "Implemente una función llamada \"goldbach\" cuyo input sea un número natural positivo $n$ y como output devuelva la suma de dos primos ($n_{1}$ y $n_{2}$) tal que $n_{1}+n_{2}=n$.\n",
    "\n",
    "Para esto:\n",
    "\n",
    "a) Defina la función \"es_primo\", donde la entrada sea un número natural $n$ y la salida sea **True** si el número es primo y **False** en otro caso.\n",
    "\n",
    "b) Defina la función \"lista_de_primos\", donde la entrada sea un número natural par $n$ mayor que dos y la salida sea una lista con todos los número primos entre 2 y $n$.\n",
    "\n",
    "c) Ocupe la función \"lista_de_primos\" dentro de la función \"goldbash\"."
   ]
  },
  {
   "cell_type": "code",
   "execution_count": 20,
   "id": "ea549132",
   "metadata": {},
   "outputs": [
    {
     "name": "stdout",
     "output_type": "stream",
     "text": [
      "Ingrese numero: 8\n",
      "es_primo(8) = False\n",
      "lista_de_primos(8) = [2, 3, 5, 7]\n",
      "goldbach(8) = (3, 5)\n"
     ]
    }
   ],
   "source": [
    "#Solucion\n",
    "\n",
    "def es_primo(n):\n",
    "    cont = 0\n",
    "    for k in range(1,n+1):\n",
    "        if n%k == 0:\n",
    "            cont += 1\n",
    "    if cont == 2:\n",
    "        return(True)\n",
    "    else:\n",
    "        return(False)\n",
    "\n",
    "def lista_de_primos(n):\n",
    "    primos = []\n",
    "    for k in range(2,n+1):\n",
    "        if es_primo(k) == True:\n",
    "            primos.append(k)\n",
    "    return(primos)\n",
    "\n",
    "def find(array, len, summ):     #Funcion auxiliar que hace todos los pares de sumas\n",
    "    for i in range(len):\n",
    "        for j in range(i, len):\n",
    "            if (array[i] + array[j]) == summ:\n",
    "                return(array[i], array[j])\n",
    "\n",
    "def goldbach(n):\n",
    "    primos = lista_de_primos(n)\n",
    "    par = find(primos,len(primos),n)\n",
    "    return par\n",
    "    \n",
    "a = int(input(\"Ingrese numero: \"))\n",
    "print(\"es_primo({}) =\".format(str(a)),es_primo(a))                       #Se verifica si \"a\" es par o no\n",
    "print(\"lista_de_primos({}) =\".format(str(a)),lista_de_primos(a))         #Lista de primos\n",
    "print(\"goldbach({}) =\".format(str(a)),goldbach(a))                       #Se encuentra el par de primos que suma \"a\""
   ]
  }
 ],
 "metadata": {
  "kernelspec": {
   "display_name": "Python 3 (ipykernel)",
   "language": "python",
   "name": "python3"
  },
  "language_info": {
   "codemirror_mode": {
    "name": "ipython",
    "version": 3
   },
   "file_extension": ".py",
   "mimetype": "text/x-python",
   "name": "python",
   "nbconvert_exporter": "python",
   "pygments_lexer": "ipython3",
   "version": "3.9.13"
  }
 },
 "nbformat": 4,
 "nbformat_minor": 5
}
